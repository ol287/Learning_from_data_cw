{
 "cells": [
  {
   "cell_type": "code",
   "execution_count": 5,
   "metadata": {},
   "outputs": [
    {
     "name": "stdout",
     "output_type": "stream",
     "text": [
      "         Date      Open      High       Low     Close  Adj Close     Volume\n",
      "0  29/06/2010  1.266667  1.666667  1.169333  1.592667   1.592667  281494500\n",
      "1  30/06/2010  1.719333  2.028000  1.553333  1.588667   1.588667  257806500\n",
      "2  01/07/2010  1.666667  1.728000  1.351333  1.464000   1.464000  123282000\n",
      "3  02/07/2010  1.533333  1.540000  1.247333  1.280000   1.280000   77097000\n",
      "4  06/07/2010  1.333333  1.333333  1.055333  1.074000   1.074000  103003500\n",
      "File successfully saved to Tesla2.csv\n"
     ]
    }
   ],
   "source": [
    "import pandas as pd\n",
    "\n",
    "# Specify the path to your file\n",
    "input_file_path = 'TSLA.csv'\n",
    "output_file_path = 'Tesla2.csv'\n",
    "\n",
    "# Attempt to read the file with pandas\n",
    "try:\n",
    "    df = pd.read_csv(input_file_path, encoding='utf-8')\n",
    "    # Print the first 5 rows of the DataFrame\n",
    "    print(df.head())\n",
    "except Exception as e:\n",
    "    print(\"Error reading the file:\", e)\n",
    "\n",
    "# Save the DataFrame to a new CSV file\n",
    "try:\n",
    "    df.to_csv(output_file_path, index=False)\n",
    "    print(f\"File successfully saved to {output_file_path}\")\n",
    "except Exception as e:\n",
    "    print(\"Error saving the file as CSV:\", e)\n"
   ]
  },
  {
   "cell_type": "code",
   "execution_count": 6,
   "metadata": {},
   "outputs": [
    {
     "name": "stdout",
     "output_type": "stream",
     "text": [
      "<class 'pandas.core.frame.DataFrame'>\n",
      "RangeIndex: 3562 entries, 0 to 3561\n",
      "Data columns (total 7 columns):\n",
      " #   Column     Non-Null Count  Dtype  \n",
      "---  ------     --------------  -----  \n",
      " 0   Date       3562 non-null   object \n",
      " 1   Open       3562 non-null   float64\n",
      " 2   High       3562 non-null   float64\n",
      " 3   Low        3562 non-null   float64\n",
      " 4   Close      3562 non-null   float64\n",
      " 5   Adj Close  3562 non-null   float64\n",
      " 6   Volume     3562 non-null   int64  \n",
      "dtypes: float64(5), int64(1), object(1)\n",
      "memory usage: 194.9+ KB\n"
     ]
    }
   ],
   "source": [
    "# get the mata information of df\n",
    "df.info()"
   ]
  },
  {
   "cell_type": "code",
   "execution_count": 7,
   "metadata": {},
   "outputs": [
    {
     "data": {
      "text/plain": [
       "Date         0\n",
       "Open         0\n",
       "High         0\n",
       "Low          0\n",
       "Close        0\n",
       "Adj Close    0\n",
       "Volume       0\n",
       "dtype: int64"
      ]
     },
     "execution_count": 7,
     "metadata": {},
     "output_type": "execute_result"
    }
   ],
   "source": [
    "# count of null values column wise\n",
    "df.isnull().sum()"
   ]
  }
 ],
 "metadata": {
  "kernelspec": {
   "display_name": "Python 3",
   "language": "python",
   "name": "python3"
  },
  "language_info": {
   "codemirror_mode": {
    "name": "ipython",
    "version": 3
   },
   "file_extension": ".py",
   "mimetype": "text/x-python",
   "name": "python",
   "nbconvert_exporter": "python",
   "pygments_lexer": "ipython3",
   "version": "3.9.6"
  }
 },
 "nbformat": 4,
 "nbformat_minor": 2
}
